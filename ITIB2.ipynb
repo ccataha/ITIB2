{
  "nbformat": 4,
  "nbformat_minor": 0,
  "metadata": {
    "kernelspec": {
      "display_name": "itib",
      "language": "python",
      "name": "itib"
    },
    "language_info": {
      "codemirror_mode": {
        "name": "ipython",
        "version": 3
      },
      "file_extension": ".py",
      "mimetype": "text/x-python",
      "name": "python",
      "nbconvert_exporter": "python",
      "pygments_lexer": "ipython3",
      "version": "3.9.2"
    },
    "colab": {
      "name": "ITIB2.ipynb",
      "provenance": [],
      "collapsed_sections": []
    }
  },
  "cells": [
    {
      "cell_type": "markdown",
      "metadata": {
        "collapsed": true,
        "pycharm": {
          "name": "#%% md\n"
        },
        "id": "2FSZN_A2rZf7"
      },
      "source": [
        "<h3 align=\"center\">Практическая работа №2. Применение однослойной нейронной сети для решения задач регрессии экспериментальных данных</h3>\n",
        "<h3 align=\"center\"> Выполнил: Ландызин А.Н. М092101(71)<h3>\n",
        "### Цель работы\n",
        "\n",
        "Цель работы — изучить возможности однослойных НС с правилом обучения Видроу — Хоффа в задачах регрессии экспериментальных данных.\n",
        "\n",
        "### Постановка задачи.\n",
        "\n",
        "Постановка задачи. В зависимости от варианта работы с помощью НС с линейной функцией активации аппроксимировать функцию $f(x)$ (найти коэффициенты $c, d$) по набору ее $N$ дискретных значений, заданных равномерно на интервале $[a, b]$ со случайными ошибками $e_i=A rnd(-0,5; 0,5)$. Выполнить расчет параметров $c, d$ методом наименьших квадратов (МНК) и определить среднеквадратичное отклонение (СКО). Провести обучение НС по правилу Видроу — Хоффа, экспериментальным путем подобрав оптимальный коэффициент обучения"
      ]
    },
    {
      "cell_type": "markdown",
      "metadata": {
        "id": "iD2R62S0rZf_"
      },
      "source": [
        "## 6 вариант\n",
        "Параметры:\n",
        "\n",
        "$a = -2$\n",
        "\n",
        "$b = 1$\n",
        "\n",
        "$c = 0.5$\n",
        "\n",
        "$d = 0$\n",
        "\n",
        "$N = 20$\n",
        "\n",
        "$F = c x^2 + d$\n",
        "\n",
        "$A = 1$"
      ]
    },
    {
      "cell_type": "code",
      "metadata": {
        "colab": {
          "base_uri": "https://localhost:8080/"
        },
        "id": "fb8zm5E6uuhL",
        "outputId": "9c7d4bdb-5d4f-4d00-dcbd-df0f89d4daaf"
      },
      "source": [
        "pip install matplotlib"
      ],
      "execution_count": null,
      "outputs": [
        {
          "output_type": "stream",
          "name": "stdout",
          "text": [
            "Requirement already satisfied: matplotlib in /usr/local/lib/python3.7/dist-packages (3.2.2)\n",
            "Requirement already satisfied: cycler>=0.10 in /usr/local/lib/python3.7/dist-packages (from matplotlib) (0.10.0)\n",
            "Requirement already satisfied: python-dateutil>=2.1 in /usr/local/lib/python3.7/dist-packages (from matplotlib) (2.8.2)\n",
            "Requirement already satisfied: pyparsing!=2.0.4,!=2.1.2,!=2.1.6,>=2.0.1 in /usr/local/lib/python3.7/dist-packages (from matplotlib) (2.4.7)\n",
            "Requirement already satisfied: numpy>=1.11 in /usr/local/lib/python3.7/dist-packages (from matplotlib) (1.19.5)\n",
            "Requirement already satisfied: kiwisolver>=1.0.1 in /usr/local/lib/python3.7/dist-packages (from matplotlib) (1.3.2)\n",
            "Requirement already satisfied: six in /usr/local/lib/python3.7/dist-packages (from cycler>=0.10->matplotlib) (1.15.0)\n"
          ]
        }
      ]
    },
    {
      "cell_type": "code",
      "metadata": {
        "pycharm": {
          "name": "#%%\n"
        },
        "id": "wYsI6McbrZgA"
      },
      "source": [
        "import numpy as np\n",
        "from copy import copy\n",
        "import matplotlib.pyplot as plt\n",
        "import math\n",
        "from dataclasses import dataclass\n",
        "from typing import List, Iterable, TYPE_CHECKING, Callable, Optional\n",
        "import types"
      ],
      "execution_count": null,
      "outputs": []
    },
    {
      "cell_type": "markdown",
      "metadata": {
        "id": "VPjGJPz_vTS4"
      },
      "source": [
        "Variants"
      ]
    },
    {
      "cell_type": "code",
      "metadata": {
        "id": "2RjEcDaLvPDt"
      },
      "source": [
        "@dataclass\n",
        "class Point:\n",
        "    x: float\n",
        "    y: float\n",
        "\n",
        "\n",
        "def mnk(data: List[Iterable[List[float]]]) -> (float, float):\n",
        "    \"\"\"\n",
        "    Возвращает значения c, d, расчитанные по методу наименьших квадратов\n",
        "    Принимает в себя список точек\n",
        "    \"\"\"\n",
        "    points = [Point(x, y) for x, y in data]\n",
        "    n = len(points)\n",
        "    c = (n * sum((point.x * point.y for point in points)) - sum((point.x for point in points)) * sum((point.y for point in points))) \\\n",
        "        / (n * (sum((math.pow(point.x, 2) for point in points))) - math.pow(sum((point.x for point in points)), 2))\n",
        "    d = (sum((point.y for point in points)) - c * sum((point.x for point in points))) / n\n",
        "    return c, d\n",
        "\n",
        "\n",
        "def af(self: \"NeuralNetwork\", x: float) -> float:\n",
        "    return x\n",
        "\n",
        "\n",
        "def df(self: \"NeuralNetwork\", net: float) -> float:\n",
        "    return 1.0\n",
        "\n",
        "\n",
        "def just_x(self: \"NeuralNetwork\", x: int) -> float:\n",
        "    return float(x)"
      ],
      "execution_count": null,
      "outputs": []
    },
    {
      "cell_type": "markdown",
      "metadata": {
        "id": "1QEovgOrviFV"
      },
      "source": [
        "services"
      ]
    },
    {
      "cell_type": "code",
      "metadata": {
        "id": "xXIiSSbgve1Z"
      },
      "source": [
        "class NeuralNetwork:\n",
        "\n",
        "    def __init__(self,\n",
        "                 learning_rate: float,\n",
        "                 activation_function: Callable[[\"NeuralNetwork\", float], float],\n",
        "                 error_function: Callable[[\"NeuralNetwork\", int], float] = just_x,\n",
        "                 c: float = 0.0,\n",
        "                 d: float = 0.0):\n",
        "        \"\"\"\n",
        "        Инициализируем веса\n",
        "        Переданные функции активации и ее производная должны первым параметром принимать параметр self,\n",
        "        чтобы превратить их в метод.\n",
        "        \"\"\"\n",
        "        self.weights: List[float] = [c, d]  # c, d\n",
        "\n",
        "        # параметр learning_rate должен иметь значение от 0 не включительно до 1 включительно\n",
        "        if not 0.0 < learning_rate <= 1.0:\n",
        "            raise ValueError('Поставьте параметр learning_rate от 0 до 1 (необходимо по сабжекту)')\n",
        "        self.learning_rate: float = learning_rate\n",
        "        self.activation_function = types.MethodType(activation_function, self)\n",
        "        self.error_function = types.MethodType(error_function, self)\n",
        "\n",
        "        self.current_nn_output: Optional[List[float]] = None\n",
        "\n",
        "    def get_net(self, x: float) -> float:\n",
        "        return self.weights[0] * x + self.weights[1]\n",
        "\n",
        "    def _get_output_data(self,\n",
        "                         input_data: List[float]) -> List[float]:\n",
        "        return [self.activation_function(self.get_net(x)) for x in input_data]\n",
        "\n",
        "    def change_weights(self,\n",
        "                       input_train_data: List[float],\n",
        "                       errors: List[float]) -> None:\n",
        "        self.weights[0] += sum(self.learning_rate *\n",
        "                               self.error_function(errors[j]) *\n",
        "                               input_train_data[j]\n",
        "                               for j in range(len(input_train_data)))\n",
        "        self.weights[1] += sum(self.learning_rate *\n",
        "                               self.error_function(errors[j])\n",
        "                               for j in range(len(input_train_data)))\n",
        "\n",
        "    def epoch(self,\n",
        "              input_data: List[float],\n",
        "              expected_output_data: List[float]) -> float:\n",
        "        self.current_nn_output = self._get_output_data(input_data)\n",
        "        errors = [expected_output_data[i] - self.current_nn_output[i] for i in range(len(self.current_nn_output))]\n",
        "        self.change_weights([x for x in input_data], errors)\n",
        "        return sum([x ** 2 for x in errors])\n",
        "\n",
        "    def predict(self,\n",
        "                input_data: List[float]) -> List[float]:\n",
        "        return [self.c * x + self.d for x in input_data]\n",
        "\n",
        "    @property\n",
        "    def c(self):\n",
        "        return self.weights[0]\n",
        "\n",
        "    @property\n",
        "    def d(self):\n",
        "        return self.weights[1]\n",
        "\n",
        "\n",
        "if __name__ == '__main__':\n",
        "    data = []\n",
        "    epochs = 10\n",
        "    epoch_output = []\n",
        "    a = -2\n",
        "    b = 1\n",
        "    c = 0.5\n",
        "    d = 0\n",
        "    N = 20\n",
        "    A = 1\n",
        "\n",
        "    x_points = np.random.uniform(low=a, high=b, size=N)\n",
        "    rA = np.random.normal(scale=A, size=x_points.size)\n",
        "    y_points = c * x_points ** 2 + d + rA\n",
        "    _c, _d = mnk(list(zip([x ** 2 for x in x_points], y_points)))\n",
        "\n",
        "    true_x = np.linspace(a, b)\n",
        "    true_y = c * true_x ** 2 + d\n",
        "\n",
        "    mnk_x = np.linspace(a, b)\n",
        "    mnk_y = _c * mnk_x ** 2 + _d\n",
        "\n",
        "    nn = NeuralNetwork(learning_rate=0.5, activation_function=af)\n",
        "\n",
        "    for i in range(epochs):\n",
        "\n",
        "        nn.epoch(input_data=[x ** 2 for x in x_points], expected_output_data=list(y_points))\n",
        "        x = np.linspace(a, b, 100)\n",
        "        y = c * x ** 2 + d"
      ],
      "execution_count": null,
      "outputs": []
    },
    {
      "cell_type": "markdown",
      "metadata": {
        "id": "LEv13GZcrZgB"
      },
      "source": [
        "***\n",
        "### 1. Решение задачи регрессии через МНК. Параметр шума отсутствует, ошибка нулевая"
      ]
    },
    {
      "cell_type": "code",
      "metadata": {
        "colab": {
          "base_uri": "https://localhost:8080/",
          "height": 282
        },
        "id": "J5KvTu9qrZgC",
        "outputId": "39f8d8e3-5164-4944-dbb3-8a69f70a8667"
      },
      "source": [
        "a = -2\n",
        "b = 1\n",
        "c = 0.5\n",
        "d = 0\n",
        "N = 20\n",
        "\n",
        "x_points = np.random.uniform(low=a, high=b, size=N)\n",
        "\n",
        "y_points = c * x_points ** 2 + d\n",
        "\n",
        "_c, _d = mnk(list(zip([x ** 2 for x in x_points], y_points)))\n",
        "\n",
        "true_x = np.linspace(a, b)\n",
        "true_y = c * true_x ** 2 + d\n",
        "\n",
        "mnk_x = np.linspace(a, b)\n",
        "mnk_y = _c * mnk_x ** 2 + _d\n",
        "\n",
        "plt.plot(true_x, true_y)\n",
        "plt.scatter(x_points, y_points, c='red')\n",
        "\n",
        "plt.plot(mnk_x, mnk_y)\n",
        "print(\"c = \", _c, \"d = \", _d)\n"
      ],
      "execution_count": null,
      "outputs": [
        {
          "output_type": "stream",
          "name": "stdout",
          "text": [
            "c =  0.5 d =  0.0\n"
          ]
        },
        {
          "output_type": "display_data",
          "data": {
            "image/png": "[encoded data removed]",
            "text/plain": [
              "<Figure size 432x288 with 1 Axes>"
            ]
          },
          "metadata": {
            "needs_background": "light"
          }
        }
      ]
    },
    {
      "cell_type": "markdown",
      "metadata": {
        "id": "xd3wkXD5rZgD"
      },
      "source": [
        "***\n",
        "### 2. Решение задачи регрессии через обучение нейрона. Количество эпох - 100, норма обучения - 0,025. Параметр шума отсутствует"
      ]
    },
    {
      "cell_type": "code",
      "metadata": {
        "colab": {
          "base_uri": "https://localhost:8080/",
          "height": 298
        },
        "id": "rFqasnkcrZgD",
        "outputId": "f3e2b3d1-f16c-4810-fc7b-63a6ef2f935b"
      },
      "source": [
        "nn = NeuralNetwork(learning_rate=0.025, activation_function=af)\n",
        "epochs = 100\n",
        "\n",
        "for i in range(epochs):\n",
        "    nn.epoch(input_data=[x ** 2 for x in x_points], expected_output_data=y_points)\n",
        "\n",
        "nn_x = np.linspace(a, b)\n",
        "nn_y = nn.c * nn_x ** 2 + nn.d\n",
        "true_x = np.linspace(a, b)\n",
        "true_y = c * true_x ** 2 + d\n",
        "plt.plot(true_x, true_y)\n",
        "plt.plot(nn_x, nn_y)\n",
        "plt.scatter(x_points, y_points, c='red')\n",
        "\n",
        "print(f\"Среднеквадратичная ошибка: {sum([e ** 2 for e in [(c * x ** 2 + d) - (nn.c * x ** 2 + nn.d) for x in x_points]])}\")\n",
        "print(\"c =\", nn.c, \"d =\", nn.d)"
      ],
      "execution_count": null,
      "outputs": [
        {
          "output_type": "stream",
          "name": "stdout",
          "text": [
            "Среднеквадратичная ошибка: 3.164800063810069e-13\n",
            "c = 0.49999980722584936 d = 1.4905464141006882e-07\n"
          ]
        },
        {
          "output_type": "display_data",
          "data": {
            "image/png": "[encoded data removed]",
            "text/plain": [
              "<Figure size 432x288 with 1 Axes>"
            ]
          },
          "metadata": {
            "needs_background": "light"
          }
        }
      ]
    },
    {
      "cell_type": "markdown",
      "metadata": {
        "id": "z86Ml-trrZgE"
      },
      "source": [
        "***\n",
        "### 3. Решение задачи регрессии через МНК. Параметр шума = 1"
      ]
    },
    {
      "cell_type": "code",
      "metadata": {
        "pycharm": {
          "name": "#%%\n"
        },
        "colab": {
          "base_uri": "https://localhost:8080/",
          "height": 298
        },
        "id": "bUkEOf_rrZgF",
        "outputId": "0ed7ab0d-6932-4d5f-9281-c473bd108d59"
      },
      "source": [
        "A = 1\n",
        "\n",
        "x_points = np.random.uniform(low=a, high=b, size=N)\n",
        "rA = np.random.normal(scale=A, size=x_points.size)\n",
        "y_points = c * x_points ** 2 + d + rA / 2\n",
        "_c, _d = mnk(list(zip([x ** 2 for x in x_points], y_points)))\n",
        "\n",
        "true_x = np.linspace(a, b)\n",
        "true_y = c * true_x ** 2 + d\n",
        "\n",
        "mnk_x = np.linspace(a, b)\n",
        "mnk_y = _c * mnk_x ** 2 + _d\n",
        "\n",
        "plt.plot(true_x, true_y)\n",
        "plt.scatter(x_points, y_points, c='red')\n",
        "\n",
        "plt.plot(mnk_x, mnk_y)\n",
        "\n",
        "print(f\"Среднеквадратичная ошибка: {sum([e ** 2 for e in [(c * x ** 2 + d) - (_c * x ** 2 + _d) for x in x_points]])}\")\n",
        "print(\"c =\", _c, \"d =\", _d)"
      ],
      "execution_count": null,
      "outputs": [
        {
          "output_type": "stream",
          "name": "stdout",
          "text": [
            "Среднеквадратичная ошибка: 0.12539582462337617\n",
            "c = 0.4650892039570861 d = -0.02672616970829056\n"
          ]
        },
        {
          "output_type": "display_data",
          "data": {
            "image/png": "[encoded data removed]",
            "text/plain": [
              "<Figure size 432x288 with 1 Axes>"
            ]
          },
          "metadata": {
            "needs_background": "light"
          }
        }
      ]
    },
    {
      "cell_type": "markdown",
      "metadata": {
        "id": "cAdatwxDrZgF"
      },
      "source": [
        "***\n",
        "### 4. Решение задачи регрессии через обучение нейрона. Количество эпох - 100, норма обучения - 0,025. Параметр шума = 1"
      ]
    },
    {
      "cell_type": "code",
      "metadata": {
        "colab": {
          "base_uri": "https://localhost:8080/",
          "height": 298
        },
        "id": "YxYONpcaNFGW",
        "outputId": "a2f429e1-3eba-4efc-8c3f-7b0ff50a2e63"
      },
      "source": [
        "A = 1\n",
        "nn = NeuralNetwork(learning_rate=0.025, activation_function=af)\n",
        "epochs = 100\n",
        "rA = np.random.normal(scale=A, size=y_points.size)\n",
        "for i in range(epochs):\n",
        "    nn.epoch(input_data=[x ** 2 for x in x_points], expected_output_data=y_points + rA / 2)\n",
        "\n",
        "nn_x = np.linspace(a, b)\n",
        "nn_y = nn.c * nn_x ** 2 + nn.d \n",
        "true_x = np.linspace(a, b)\n",
        "true_y = c * true_x ** 2 + d\n",
        "plt.plot(true_x, true_y)\n",
        "plt.plot(nn_x, nn_y)\n",
        "plt.scatter(x_points, y_points, c='red')\n",
        "\n",
        "print(f\"Среднеквадратичная ошибка: {sum([e ** 2 for e in [(c * x ** 2 + d) - (nn.c * x ** 2 + nn.d) for x in x_points]])}\")\n",
        "print(\"c =\", nn.c, \"d =\", nn.d)"
      ],
      "execution_count": null,
      "outputs": [
        {
          "output_type": "stream",
          "name": "stdout",
          "text": [
            "Среднеквадратичная ошибка: 0.3512994835206921\n",
            "c = 0.4357517746892356 d = -0.0330728575703914\n"
          ]
        },
        {
          "output_type": "display_data",
          "data": {
            "image/png": "[encoded data removed]",
            "text/plain": [
              "<Figure size 432x288 with 1 Axes>"
            ]
          },
          "metadata": {
            "needs_background": "light"
          }
        }
      ]
    },
    {
      "cell_type": "markdown",
      "metadata": {
        "id": "8fOozSYLrZgG"
      },
      "source": [
        "***\n",
        "## Выводы\n",
        "\n",
        "В результате проведения работы было исследовано функционирование однослойной НС с правилом обучения Видроу — Хоффа в задачах регрессии экспериментальных данных. Было проведено сравнение данного метода с методом наименьших квадратов"
      ]
    },
    {
      "cell_type": "markdown",
      "metadata": {
        "id": "3LleGcyXrZgH"
      },
      "source": [
        "***\n",
        "\n",
        "## Контрольные вопросы\n",
        "**1. Объясните понятие регрессии экспериментальных данных.**\n",
        "\n",
        "Одномерная (простая) линейная регрессия – это метод, используемый для моделирования отношений между одной независимой входной переменной (переменной функции) и выходной зависимой переменной. Модель линейная.\n",
        "Более общий случай – множественная линейная регрессия, где создаётся модель взаимосвязи между несколькими входными переменными и выходной зависимой переменной. Модель остаётся линейной, поскольку выходное значение представляет собой линейную комбинацию входных значений.\n",
        "Также стоит упомянуть полиномиальную регрессию. Модель становится нелинейной комбинацией входных переменных, т. е. среди них могут быть экспоненциальные переменные: синус, косинус и т. п.\n",
        "\n",
        "**2. Поясните суть метода наименьших квадратов.**\n",
        "\n",
        "Задача заключается в нахождении коэффициентов линейной зависимости, при которых функция двух переменных $а$ и $b$ функция двух переменных\n",
        "$$\n",
        "F(a,b) = \\sum_{i=1}^{n} (y_i - (a x_i + b))^2\n",
        "$$\n",
        "принимает наименьшее значение. То есть, при данных а и b сумма квадратов отклонений экспериментальных данных от найденной прямой будет наименьшей. Таким образом, решение сводится к нахождению экстремума функции двух переменных.\n",
        "\n",
        "\n",
        "**3. Сформулируйте нейросетевой подход к задачам регрессии.**\n",
        "\n",
        "МНК дает уравнение прямой, наилучшим образом аппроксимирующей набор данных. Для нахождения такой прямой можно применить другой подход, основанный на использовании НС с линейной функцией активации и обучении, т. е. настройке ее весов $с, d$ по некоторой выборке. Поскольку сеть однослойная, обучение можно реализовать по правилу Видроу — Хоффа.\n",
        "\n",
        "Каждая эпоха обучения $k = 1,2,...$ включает в себя цикл последовательного предъявления всех образцов обучающей выборки $i=1,N$ на вход НС. Предъявление одного обучающего образца внутри эпохи является элементарным шагом обучения, во время которого вектор весовых коэффициентов $w = (c, d)$ корректируется согласно правилу Видроу — Хоффа: \n",
        "$$ \\hat{c}_{i+1} = \\hat{c}_i + \\Delta \\hat{c}_i, \\Delta \\hat{c}_i=\\eta \\sigma_i x_i, $$\n",
        "$$ \\hat{d}_{i+1} = \\hat{d}_i + \\Delta \\hat{d}_i, \\Delta \\hat{d}_i=\\eta \\sigma_i, $$\n",
        "\n",
        "где $\\eta$ — норма обучения, $\\eta \\in (0,1]$."
      ]
    }
  ]
}